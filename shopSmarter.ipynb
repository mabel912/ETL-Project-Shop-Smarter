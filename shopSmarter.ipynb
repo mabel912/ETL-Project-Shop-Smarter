{
 "cells": [
  {
   "cell_type": "code",
   "execution_count": null,
   "metadata": {},
   "outputs": [],
   "source": [
    "# import dependencies\n",
    "import pandas as pd\n",
    "import json\n",
    "import requests\n",
    "from sqlalchemy import create_engine\n",
    "from config import wlm_api, myPass\n",
    "from pandas.io.json import json_normalize\n",
    "import time"
   ]
  },
  {
   "cell_type": "code",
   "execution_count": null,
   "metadata": {},
   "outputs": [],
   "source": [
    "# Walmart api key from config file\n",
    "apiKey = wlm_api"
   ]
  },
  {
   "cell_type": "code",
   "execution_count": null,
   "metadata": {},
   "outputs": [],
   "source": [
    "# api Call to walmart for the product selected 20 max on 1 call\n",
    "product_api = (f\"http://api.walmartlabs.com/v1/items?ids=51800359,986978174,42490113,317677075,545584365,55449983,38676400,189542267,55420123,38317400,275846958,50820749,47090515,39073013,878167&apiKey={apiKey}&lsPublisherId=\").format(apiKey)"
   ]
  },
  {
   "cell_type": "code",
   "execution_count": null,
   "metadata": {},
   "outputs": [],
   "source": [
    "# request call to APU\n",
    "response = requests.get(product_api)\n",
    "productList = response.json()\n",
    "# convert api call to DataFrame\n",
    "productList = pd.DataFrame.from_dict(productList['items'], orient='columns', dtype=None)\n",
    "# Grab data desired and use as column name\n",
    "productList = productList[['itemId', 'name', 'salePrice', 'clearance', 'stock']]\n",
    "# display the dataframe\n",
    "productList"
   ]
  },
  {
   "cell_type": "code",
   "execution_count": null,
   "metadata": {},
   "outputs": [],
   "source": [
    "# create a list of the items for api call loop\n",
    "itemId = [51800359,986978174,42490113,317677075,545584365,55449983,38676400,189542267,55420123,38317400,\n",
    "              275846958,50820749,47090515,39073013,878167]\n",
    "items = []\n",
    "# review_product_api\n",
    "for item in itemId:\n",
    "    url = 'http://api.walmartlabs.com/v1/reviews/' + str(item) + '?apiKey=' + str(apiKey) + '&lsPublisherId=&format=json'\n",
    "    response = requests.get(url)\n",
    "    prodReview = response.json()\n",
    "    time.sleep(2)\n",
    "#         json.dumps(response)\n",
    "    items.append(prodReview)"
   ]
  },
  {
   "cell_type": "code",
   "execution_count": null,
   "metadata": {},
   "outputs": [],
   "source": [
    "# convert api call to DataFrame\n",
    "prodReview = pd.DataFrame.from_dict(items, orient='columns', dtype=None)\n",
    "# Grab data desired and use as column name\n",
    "prodReview = prodReview[['itemId','reviewStatistics']]\n",
    "for kwy in prodReview:\n",
    "    print(kwy)"
   ]
  },
  {
   "cell_type": "code",
   "execution_count": null,
   "metadata": {},
   "outputs": [],
   "source": [
    "reviewStats = prodReview['reviewStatistics'].apply(pd.Series)\n",
    "reviewStats"
   ]
  },
  {
   "cell_type": "code",
   "execution_count": null,
   "metadata": {},
   "outputs": [],
   "source": [
    "prodRatingOver = pd.concat([prodReview, reviewStats], axis=1)\n",
    "prodRatingOver = prodRatingOver[['itemId', 'averageOverallRating', 'overallRatingRange', 'totalReviewCount']]\n",
    "prodRatingOver"
   ]
  },
  {
   "cell_type": "code",
   "execution_count": null,
   "metadata": {},
   "outputs": [],
   "source": [
    "mergedDF = pd.merge(productList, prodRatingOver, on='itemId')\n",
    "mergedDF"
   ]
  },
  {
   "cell_type": "code",
   "execution_count": null,
   "metadata": {},
   "outputs": [],
   "source": [
    "# Python SQL toolkit and Object Relational Mapper\n",
    "import sqlalchemy\n",
    "from sqlalchemy.ext.automap import automap_base\n",
    "from sqlalchemy.orm import Session\n",
    "from sqlalchemy import create_engine, func\n",
    "import mysql.connector\n",
    "from mysql.connector import errorcode"
   ]
  },
  {
   "cell_type": "markdown",
   "metadata": {},
   "source": [
    "# Update your password in the config file to RUN"
   ]
  },
  {
   "cell_type": "code",
   "execution_count": null,
   "metadata": {},
   "outputs": [],
   "source": [
    "# mySql Pass word \n",
    "myPas = myPass"
   ]
  },
  {
   "cell_type": "code",
   "execution_count": null,
   "metadata": {},
   "outputs": [],
   "source": [
    "# Create Connection to MYSQL\n",
    "try:\n",
    "    conn = mysql.connector.connect(\n",
    "        host='localhost', user='root', password=myPas)\n",
    "    mycursor = conn.cursor()\n",
    "    # Error out if something happens and step out\n",
    "except mysql.connector.Error as err:\n",
    "    if err.errno == errorcode.ER_ACCESS_DENIED_ERROR:\n",
    "        print(\"Something is wrong with your user name or password\")\n",
    "    elif err.errno == errorcode.ER_BAD_DB_ERROR:\n",
    "        print(\"Database does not exist\")\n",
    "    else:\n",
    "        print(err)\n",
    "else:\n",
    "    # Drop table if Exists\n",
    "    sqlDrop = 'DROP DATABASE IF EXISTS shopsmarter'"
   ]
  },
  {
   "cell_type": "code",
   "execution_count": null,
   "metadata": {},
   "outputs": [],
   "source": [
    "mycursor.execute(sqlDrop)"
   ]
  },
  {
   "cell_type": "code",
   "execution_count": null,
   "metadata": {},
   "outputs": [],
   "source": [
    "mycursor.execute('CREATE DATABASE shopsmarter')"
   ]
  },
  {
   "cell_type": "code",
   "execution_count": null,
   "metadata": {},
   "outputs": [],
   "source": [
    "database_username = 'root'\n",
    "database_password = myPas\n",
    "database_ip       = '127.0.0.1'\n",
    "database_name     = 'shopsmarter'\n",
    "database_connection = sqlalchemy.create_engine('mysql+mysqlconnector://{0}:{1}@{2}/{3}'.\n",
    "                                               format(database_username, database_password, \n",
    "                                                      database_ip, database_name), pool_recycle=1, pool_timeout=57600).connect()\n",
    "# Create Prodcut list Table in Database from the product list dataframe\n",
    "productList.to_sql(con=database_connection, name='productlist', if_exists='replace')"
   ]
  },
  {
   "cell_type": "code",
   "execution_count": null,
   "metadata": {},
   "outputs": [],
   "source": [
    "# set couple parameters to verify data on Database\n",
    "sqlQPL = 'SELECT * FROM productlist'\n",
    "shDB = 'USE shopsmarter'"
   ]
  },
  {
   "cell_type": "code",
   "execution_count": null,
   "metadata": {},
   "outputs": [],
   "source": [
    "# Set out Database \n",
    "mycursor.execute(shDB)"
   ]
  },
  {
   "cell_type": "code",
   "execution_count": null,
   "metadata": {},
   "outputs": [],
   "source": [
    "# Select data from the productlist Table \n",
    "mycursor.execute(sqlQPL)"
   ]
  },
  {
   "cell_type": "code",
   "execution_count": null,
   "metadata": {},
   "outputs": [],
   "source": [
    "# Verify the data set\n",
    "myresult = mycursor.fetchall()"
   ]
  },
  {
   "cell_type": "code",
   "execution_count": null,
   "metadata": {},
   "outputs": [],
   "source": [
    "# loop through the data set\n",
    "for x in myresult:\n",
    "  print(x)"
   ]
  },
  {
   "cell_type": "code",
   "execution_count": null,
   "metadata": {},
   "outputs": [],
   "source": [
    "# Create product review table from the product rating dataframe\n",
    "prodRatingOver.to_sql(con=database_connection, name='prodratingsoverview', if_exists='replace')"
   ]
  },
  {
   "cell_type": "code",
   "execution_count": null,
   "metadata": {},
   "outputs": [],
   "source": [
    "# Create product review table from the product rating dataframe\n",
    "mergedDF.to_sql(con=database_connection, name='combineddataframe', if_exists='replace')"
   ]
  }
 ],
 "metadata": {
  "kernelspec": {
   "display_name": "Python 3",
   "language": "python",
   "name": "python3"
  },
  "language_info": {
   "codemirror_mode": {
    "name": "ipython",
    "version": 3
   },
   "file_extension": ".py",
   "mimetype": "text/x-python",
   "name": "python",
   "nbconvert_exporter": "python",
   "pygments_lexer": "ipython3",
   "version": "3.6.8"
  },
  "toc": {
   "base_numbering": 1,
   "nav_menu": {},
   "number_sections": true,
   "sideBar": true,
   "skip_h1_title": false,
   "title_cell": "Table of Contents",
   "title_sidebar": "Contents",
   "toc_cell": false,
   "toc_position": {},
   "toc_section_display": true,
   "toc_window_display": false
  },
  "varInspector": {
   "cols": {
    "lenName": 16,
    "lenType": 16,
    "lenVar": 40
   },
   "kernels_config": {
    "python": {
     "delete_cmd_postfix": "",
     "delete_cmd_prefix": "del ",
     "library": "var_list.py",
     "varRefreshCmd": "print(var_dic_list())"
    },
    "r": {
     "delete_cmd_postfix": ") ",
     "delete_cmd_prefix": "rm(",
     "library": "var_list.r",
     "varRefreshCmd": "cat(var_dic_list()) "
    }
   },
   "types_to_exclude": [
    "module",
    "function",
    "builtin_function_or_method",
    "instance",
    "_Feature"
   ],
   "window_display": false
  }
 },
 "nbformat": 4,
 "nbformat_minor": 2
}
